{
 "cells": [
  {
   "cell_type": "markdown",
   "metadata": {},
   "source": [
    "# 1. Hellow World \n",
    "\n",
    "Your first python programe. "
   ]
  },
  {
   "cell_type": "code",
   "execution_count": 11,
   "metadata": {},
   "outputs": [
    {
     "name": "stdout",
     "output_type": "stream",
     "text": [
      "Hello World\n"
     ]
    }
   ],
   "source": [
    "print(\"Hello World\") "
   ]
  },
  {
   "cell_type": "markdown",
   "metadata": {},
   "source": [
    "### Comment : a comment allows you to write notes in your spoken language with in you programs? \n",
    "\n",
    "- The hash mark (#) indicates a comment \n",
    "- the Python interpreter ignores anything followed by a hash mark \n",
    "- we write comments to describe our programme to ourselves or the team we work with \n",
    "- writing a concise and meaningful comment is a good habit"
   ]
  },
  {
   "cell_type": "code",
   "execution_count": 1,
   "metadata": {},
   "outputs": [
    {
     "name": "stdout",
     "output_type": "stream",
     "text": [
      "Hello World\n"
     ]
    }
   ],
   "source": [
    "# this code prints hello world \n",
    "\n",
    "print(\"Hello World\")"
   ]
  },
  {
   "cell_type": "markdown",
   "metadata": {},
   "source": [
    "# 2. Variables "
   ]
  },
  {
   "cell_type": "code",
   "execution_count": 4,
   "metadata": {},
   "outputs": [
    {
     "name": "stdout",
     "output_type": "stream",
     "text": [
      "my name is ibrahim\n"
     ]
    }
   ],
   "source": [
    "print('my name is ibrahim') # printing a txt "
   ]
  },
  {
   "cell_type": "code",
   "execution_count": 7,
   "metadata": {},
   "outputs": [
    {
     "name": "stdout",
     "output_type": "stream",
     "text": [
      "ibrahim\n",
      "ibrahim\n",
      "ibrahim\n"
     ]
    }
   ],
   "source": [
    "# need to change name 3 times \n",
    "print('ibrahim')\n",
    "print('ibrahim')\n",
    "print('ibrahim')"
   ]
  },
  {
   "cell_type": "code",
   "execution_count": 8,
   "metadata": {},
   "outputs": [
    {
     "name": "stdout",
     "output_type": "stream",
     "text": [
      "ibrahim\n",
      "ibrahim\n",
      "ibrahim\n"
     ]
    }
   ],
   "source": [
    "# need only to change name once \n",
    "name = 'ibrahim' \n",
    "print(name)\n",
    "print(name)\n",
    "print(name)"
   ]
  },
  {
   "cell_type": "markdown",
   "metadata": {},
   "source": [
    "1. **Variable : is a name(you chose) with a given value** \n",
    "2. **You Can change the value of a varible at any time within your programme, Python will keep track of the current value** "
   ]
  },
  {
   "cell_type": "code",
   "execution_count": 9,
   "metadata": {},
   "outputs": [
    {
     "name": "stdout",
     "output_type": "stream",
     "text": [
      "ibrahim\n",
      "ali\n",
      "samer\n"
     ]
    }
   ],
   "source": [
    "name = 'ibrahim' \n",
    "\n",
    "print(name) \n",
    "\n",
    "name = 'ali'  # changing the value of the variable name \n",
    "print(name) \n",
    "\n",
    "name = 'samer' \n",
    "print(name)"
   ]
  },
  {
   "cell_type": "markdown",
   "metadata": {},
   "source": [
    "**Variabls are labels , it's a label that point to a memory location** "
   ]
  },
  {
   "cell_type": "markdown",
   "metadata": {},
   "source": [
    "## Naming a variables \n",
    "\n",
    "### Rules: Errors happen when you break rules \n",
    "1. variable name is a combine of letters (A-Z, a-z), numbers and underScore `_` \n",
    "2. variable name can't start with a number\n",
    "3. Spaces are not allowed \n",
    "4. Don't use python keywords or python built-in functions as names \n",
    "\n",
    "### Hints when naming: not rules you won't get an error \n",
    "1. name should be short but descriptive \n",
    "2. Stick with lower case when naming for now \n"
   ]
  },
  {
   "cell_type": "code",
   "execution_count": 10,
   "metadata": {},
   "outputs": [],
   "source": [
    "first_name = 'Ibrahim' \n",
    "last_name = 'Moshen' \n",
    "\n",
    "student_1 = 'Arabic' \n",
    "student_2 = 'Math'\n"
   ]
  },
  {
   "cell_type": "markdown",
   "metadata": {},
   "source": [
    "## Exercise : \n",
    "1. Assign a name to a variable and print that name \n",
    "2. change the value of the variable to a new name and print that new name "
   ]
  },
  {
   "cell_type": "code",
   "execution_count": null,
   "metadata": {},
   "outputs": [],
   "source": [
    "# Your Code here \n",
    "# Remember naming rules \n",
    "\n"
   ]
  },
  {
   "cell_type": "markdown",
   "metadata": {},
   "source": [
    "# 3. Strings "
   ]
  },
  {
   "cell_type": "markdown",
   "metadata": {},
   "source": [
    "1. String is one of the datatypes in python \n",
    "2. String is a collection of characters \n",
    "3. anything that is inside quotes is a String, Single quote or double quotes "
   ]
  },
  {
   "cell_type": "code",
   "execution_count": 12,
   "metadata": {},
   "outputs": [
    {
     "data": {
      "text/plain": [
       "'This is a String'"
      ]
     },
     "execution_count": 12,
     "metadata": {},
     "output_type": "execute_result"
    }
   ],
   "source": [
    "print('This is a String') # single quotes "
   ]
  },
  {
   "cell_type": "code",
   "execution_count": 13,
   "metadata": {},
   "outputs": [
    {
     "name": "stdout",
     "output_type": "stream",
     "text": [
      "This is also a String\n"
     ]
    }
   ],
   "source": [
    "print(\"This is also a String\")  # double quotes "
   ]
  },
  {
   "cell_type": "markdown",
   "metadata": {},
   "source": [
    "### Changing Case of a String "
   ]
  },
  {
   "cell_type": "code",
   "execution_count": 14,
   "metadata": {},
   "outputs": [
    {
     "name": "stdout",
     "output_type": "stream",
     "text": [
      "john wick\n",
      "John Wick\n"
     ]
    }
   ],
   "source": [
    "movie_name = 'john wick' \n",
    "\n",
    "print(movie_name) \n",
    "\n",
    "print(movie_name.title()) # title() method "
   ]
  },
  {
   "cell_type": "markdown",
   "metadata": {},
   "source": [
    "1. Method: Is an Action, That Python can do on specific data. \n",
    "\n",
    "2. title(): First letter is capitale of each word.  \n",
    "\n",
    "3. upper(): Capitalize the entire String (make all the letter capitale)\n",
    "\n",
    "4. lower(): lower the entire String (make all letter small)\n",
    "\n",
    "5. Most Datatypes will have its method that does specific tasks on it "
   ]
  },
  {
   "cell_type": "code",
   "execution_count": 16,
   "metadata": {},
   "outputs": [
    {
     "name": "stdout",
     "output_type": "stream",
     "text": [
      "ibrahim mohsen\n",
      "IBRAHIM MOHSEN\n",
      "Ibrahim Mohsen\n",
      "IBrahim moHsen\n"
     ]
    }
   ],
   "source": [
    "name = 'IBrahim moHsen' \n",
    "\n",
    "print(name.lower()) # all lower case \n",
    "print(name.upper()) # all upper case \n",
    "print(name.title())  \n",
    "print(name) # default string is unchanged "
   ]
  },
  {
   "cell_type": "markdown",
   "metadata": {},
   "source": [
    "### Using Variable inside a String "
   ]
  },
  {
   "cell_type": "code",
   "execution_count": 18,
   "metadata": {},
   "outputs": [
    {
     "name": "stdout",
     "output_type": "stream",
     "text": [
      "ibrahim mohsen\n"
     ]
    }
   ],
   "source": [
    "first_name = 'ibrahim'\n",
    "last_name = 'mohsen' \n",
    "\n",
    "\n",
    "# f string \n",
    "full_name = f'{first_name} {last_name}' \n",
    "\n",
    "print(full_name) "
   ]
  },
  {
   "cell_type": "code",
   "execution_count": 20,
   "metadata": {},
   "outputs": [
    {
     "name": "stdout",
     "output_type": "stream",
     "text": [
      "Hello ibrahim mohsen\n"
     ]
    }
   ],
   "source": [
    "print(f'Hello {full_name}')  "
   ]
  },
  {
   "cell_type": "code",
   "execution_count": 21,
   "metadata": {},
   "outputs": [
    {
     "name": "stdout",
     "output_type": "stream",
     "text": [
      "Hello {full_name}\n"
     ]
    }
   ],
   "source": [
    "print('Hello {full_name}') # without the f character before queots it's just a string not represented the variable  "
   ]
  },
  {
   "cell_type": "code",
   "execution_count": 22,
   "metadata": {},
   "outputs": [
    {
     "name": "stdout",
     "output_type": "stream",
     "text": [
      "Hello Ibrahim Mohsen\n"
     ]
    }
   ],
   "source": [
    "print(f'Hello {full_name.title()}') "
   ]
  },
  {
   "cell_type": "code",
   "execution_count": 23,
   "metadata": {},
   "outputs": [
    {
     "name": "stdout",
     "output_type": "stream",
     "text": [
      "Hello ibrahim mohsen\n"
     ]
    }
   ],
   "source": [
    "# you can have as many variables as you can  \n",
    "print(f'Hello {first_name} {last_name}') "
   ]
  },
  {
   "cell_type": "markdown",
   "metadata": {},
   "source": [
    "### Adding White spaces to a String \n",
    "\n",
    "**`Whitespace` is any nonprinting characters, such as spaces and tabs**  "
   ]
  },
  {
   "cell_type": "code",
   "execution_count": 24,
   "metadata": {},
   "outputs": [
    {
     "name": "stdout",
     "output_type": "stream",
     "text": [
      "     \n"
     ]
    }
   ],
   "source": [
    "print('     ')  # whitespace example "
   ]
  },
  {
   "cell_type": "code",
   "execution_count": 25,
   "metadata": {},
   "outputs": [
    {
     "name": "stdout",
     "output_type": "stream",
     "text": [
      "Hello\n",
      "\tHello\n"
     ]
    }
   ],
   "source": [
    "# add tab to your text \n",
    "\n",
    "print('Hello') \n",
    "\n",
    "print('\\tHello') # \\t "
   ]
  },
  {
   "cell_type": "code",
   "execution_count": 26,
   "metadata": {},
   "outputs": [
    {
     "name": "stdout",
     "output_type": "stream",
     "text": [
      "names: ibrahim, ali, yara\n",
      "names:\n",
      "ibrahim\n",
      "ali\n",
      "yara\n"
     ]
    }
   ],
   "source": [
    "# add a new line \n",
    "\n",
    "print('names: ibrahim, ali, yara') \n",
    "\n",
    "print('names:\\nibrahim\\nali\\nyara')  # \\n "
   ]
  },
  {
   "cell_type": "code",
   "execution_count": 27,
   "metadata": {},
   "outputs": [
    {
     "name": "stdout",
     "output_type": "stream",
     "text": [
      "names: \t\n",
      " ibrahim \t\n",
      " nali \t\n",
      " yara\n"
     ]
    }
   ],
   "source": [
    "# combine tab and newline \n",
    "print('names: \\t\\n ibrahim \\t\\n nali \\t\\n yara')  \n"
   ]
  },
  {
   "cell_type": "markdown",
   "metadata": {},
   "source": [
    "### Striping Whitespace  "
   ]
  },
  {
   "cell_type": "code",
   "execution_count": 1,
   "metadata": {},
   "outputs": [
    {
     "name": "stdout",
     "output_type": "stream",
     "text": [
      "ibrahim\n",
      "    ibrahim\n"
     ]
    }
   ],
   "source": [
    "name = 'ibrahim' \n",
    "\n",
    "name_2 = '    ibrahim' \n",
    "\n",
    "print(name) \n",
    "print(name_2)"
   ]
  },
  {
   "cell_type": "code",
   "execution_count": 11,
   "metadata": {},
   "outputs": [
    {
     "name": "stdout",
     "output_type": "stream",
     "text": [
      "    ibrahim\n",
      "ibrahim\n",
      "    ibrahim\n"
     ]
    }
   ],
   "source": [
    "# remove the white spaces on the lift side of a string \n",
    "# lstrip()\n",
    "print(name_2)\n",
    "print(name_2.lstrip()) # it returns a new value and doesn't change original variable \n",
    "\n",
    "print(name_2) # orignal variable still the same "
   ]
  },
  {
   "cell_type": "code",
   "execution_count": 10,
   "metadata": {},
   "outputs": [
    {
     "name": "stdout",
     "output_type": "stream",
     "text": [
      "ibrahim    \n",
      "ibrahim\n"
     ]
    }
   ],
   "source": [
    "# remove the white space on the right of a string \n",
    "# rstrip() \n",
    "\n",
    "name = 'ibrahim    '\n",
    "print(name) \n",
    "\n",
    "print(name.rstrip()) \n",
    "\n"
   ]
  },
  {
   "cell_type": "code",
   "execution_count": 12,
   "metadata": {},
   "outputs": [
    {
     "name": "stdout",
     "output_type": "stream",
     "text": [
      "  ibrahim    \n",
      "ibrahim\n"
     ]
    }
   ],
   "source": [
    "# remove the white spaces form both sides at once \n",
    "# strip() \n",
    "\n",
    "name = '  ibrahim    ' \n",
    "print(name) \n",
    "\n",
    "\n",
    "name = name.strip()  # to make the change permenant , assign the value returned by the strip methode to the variable again \n",
    "\n",
    "print(name)  "
   ]
  },
  {
   "cell_type": "markdown",
   "metadata": {},
   "source": [
    "**We use these methods to clean the user input before store it in a program.** "
   ]
  },
  {
   "cell_type": "markdown",
   "metadata": {},
   "source": []
  },
  {
   "cell_type": "markdown",
   "metadata": {},
   "source": [
    "### Removing Prefixes From String \n",
    "\n",
    "- `prefix` : a word, letter or number placed before a String \n",
    "- `https://` is considerd a prefix in the Web URL "
   ]
  },
  {
   "cell_type": "code",
   "execution_count": 20,
   "metadata": {},
   "outputs": [
    {
     "name": "stdout",
     "output_type": "stream",
     "text": [
      "www.google.com\n"
     ]
    }
   ],
   "source": [
    "# Write a programme to remove the 'https://' from a given URL \n",
    "# hint: use removeprefix() method \n",
    "\n",
    "simple_url = 'https://www.google.com' \n",
    "\n",
    "no_prefix_url = simple_url.removeprefix('https://')  #  pass the prefix that you want to remove. \n",
    "\n",
    "print(no_prefix_url)  "
   ]
  },
  {
   "cell_type": "markdown",
   "metadata": {},
   "source": [
    "variable +  dot + method name(pass the prefix ) "
   ]
  },
  {
   "cell_type": "markdown",
   "metadata": {},
   "source": []
  }
 ],
 "metadata": {
  "kernelspec": {
   "display_name": "computerVision",
   "language": "python",
   "name": "python3"
  },
  "language_info": {
   "codemirror_mode": {
    "name": "ipython",
    "version": 3
   },
   "file_extension": ".py",
   "mimetype": "text/x-python",
   "name": "python",
   "nbconvert_exporter": "python",
   "pygments_lexer": "ipython3",
   "version": "3.12.4"
  }
 },
 "nbformat": 4,
 "nbformat_minor": 2
}
