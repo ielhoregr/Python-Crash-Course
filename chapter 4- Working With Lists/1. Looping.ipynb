{
 "cells": [
  {
   "cell_type": "markdown",
   "metadata": {},
   "source": [
    "## 1 Looping Through an Entire List\n",
    "\n",
    "why looping? <br> \n",
    "suppose you have a list of 1 million items, and you want to do the same operation on all the items in this list, you can go and index each item and perform the operation ( good luck with that)<br>or simply use a loop. "
   ]
  },
  {
   "cell_type": "code",
   "execution_count": 1,
   "metadata": {},
   "outputs": [
    {
     "name": "stdout",
     "output_type": "stream",
     "text": [
      "ibrahim\n",
      "ali\n",
      "sara\n",
      "noah\n"
     ]
    }
   ],
   "source": [
    "# given a list of names, print out each name in the list \n",
    "\n",
    "students = ['ibrahim', 'ali', 'sara', 'noah'] # define a list \n",
    "\n",
    "\n",
    "for student in students: # initialize a for loop \n",
    "    print(student)      "
   ]
  },
  {
   "cell_type": "markdown",
   "metadata": {},
   "source": [
    "Simple, but what happens actually? \n",
    "\n",
    "we define a `for loop` \n",
    "\n",
    "1. it goes for the first item in the `students` list <br>\n",
    "2. assign this item to the `student` variable \n",
    "3. inside the loop body it uses the `student` variable to do some operations on it \n",
    "4. repeat for every element in the list "
   ]
  },
  {
   "cell_type": "code",
   "execution_count": 2,
   "metadata": {},
   "outputs": [
    {
     "name": "stdout",
     "output_type": "stream",
     "text": [
      "ibrahim\n",
      "ali\n",
      "sara\n",
      "noah\n"
     ]
    }
   ],
   "source": [
    "# let's try to do the same task without a for loop \n",
    "\n",
    "students = ['ibrahim', 'ali', 'sara', 'noah'] #define a list \n",
    "\n",
    "student = students[0]\n",
    "print(student)\n",
    "\n",
    "student = students[1]\n",
    "print(student)\n",
    "\n",
    "student = students[2]\n",
    "print(student)\n",
    "\n",
    "student = students[3]\n",
    "print(student)"
   ]
  },
  {
   "cell_type": "markdown",
   "metadata": {},
   "source": [
    "same output, but with a few flaws \n",
    "1. it's repetitive work, remember in programming `Dont Repeat Yourself` \n",
    "2. what if we add a new name to the student's list names, we would have to go manually and assign it to a student variable and then print it \n",
    "3. using for loop avoids all of that \n"
   ]
  },
  {
   "cell_type": "code",
   "execution_count": 2,
   "metadata": {},
   "outputs": [
    {
     "name": "stdout",
     "output_type": "stream",
     "text": [
      "Ibrahim, greate job!\n",
      "***\n",
      "Ali, greate job!\n",
      "***\n",
      "Sara, greate job!\n",
      "***\n",
      "Noah, greate job!\n",
      "***\n"
     ]
    }
   ],
   "source": [
    "# another example \n",
    "\n",
    "students = ['ibrahim', 'ali', 'sara', 'noah'] #define a list\n",
    "\n",
    "for student in students:\n",
    "    print(f'{student.title()}, greate job!')\n",
    "    print('***')"
   ]
  },
  {
   "cell_type": "markdown",
   "metadata": {},
   "source": [
    "Every indented line after `:` is within the loop body, which means this line/s will apply once for all the values in the list"
   ]
  },
  {
   "cell_type": "code",
   "execution_count": 3,
   "metadata": {},
   "outputs": [
    {
     "name": "stdout",
     "output_type": "stream",
     "text": [
      "Ibrahim, greate job!\n",
      "***\n",
      "Ali, greate job!\n",
      "***\n",
      "Sara, greate job!\n",
      "***\n",
      "Noah, greate job!\n",
      "***\n",
      "Thank you, everyone.\n"
     ]
    }
   ],
   "source": [
    "# any line after the loop body, is just a regular line of the programe and will be executed just once \n",
    "\n",
    "students = ['ibrahim', 'ali', 'sara', 'noah'] #define a list\n",
    "\n",
    "for student in students:\n",
    "    print(f'{student.title()}, greate job!')\n",
    "    print('***')\n",
    "\n",
    "\n",
    "# out of the loop body (no indentation)\n",
    "print(\"Thank you, everyone.\")"
   ]
  },
  {
   "cell_type": "markdown",
   "metadata": {},
   "source": [
    "- **NOTE** \n",
    "1. Indentation in Python code is significant, it tells you how the program is structured and it divides the program into blocks of code.\n",
    "2. Python will through an error if you use this indentation in the wrong way "
   ]
  },
  {
   "cell_type": "markdown",
   "metadata": {},
   "source": []
  },
  {
   "cell_type": "code",
   "execution_count": 4,
   "metadata": {},
   "outputs": [
    {
     "ename": "IndentationError",
     "evalue": "unexpected indent (3945068636.py, line 3)",
     "output_type": "error",
     "traceback": [
      "\u001b[1;36m  Cell \u001b[1;32mIn[4], line 3\u001b[1;36m\u001b[0m\n\u001b[1;33m    print(\"Hello world!\") # note i use indentation where i shouldn't be\u001b[0m\n\u001b[1;37m    ^\u001b[0m\n\u001b[1;31mIndentationError\u001b[0m\u001b[1;31m:\u001b[0m unexpected indent\n"
     ]
    }
   ],
   "source": [
    "# error example \n",
    "\n",
    "    print(\"Hello world!\") # note i use indentation where i shouldn't be "
   ]
  },
  {
   "cell_type": "markdown",
   "metadata": {},
   "source": [
    "as expected `IndentationError: unexpected indent`, this error tells you to go fixt your indentation and try again"
   ]
  },
  {
   "cell_type": "code",
   "execution_count": 5,
   "metadata": {},
   "outputs": [
    {
     "ename": "IndentationError",
     "evalue": "expected an indented block after 'for' statement on line 4 (4292764595.py, line 5)",
     "output_type": "error",
     "traceback": [
      "\u001b[1;36m  Cell \u001b[1;32mIn[5], line 5\u001b[1;36m\u001b[0m\n\u001b[1;33m    print(student)    # note you forget to indent !\u001b[0m\n\u001b[1;37m    ^\u001b[0m\n\u001b[1;31mIndentationError\u001b[0m\u001b[1;31m:\u001b[0m expected an indented block after 'for' statement on line 4\n"
     ]
    }
   ],
   "source": [
    "# another example \n",
    "students = ['ibrahim', 'ali', 'sara', 'noah'] #define a list\n",
    "\n",
    "for student in students:\n",
    "print(student)    # note you forget to indent ! "
   ]
  },
  {
   "cell_type": "markdown",
   "metadata": {},
   "source": [
    "The error tells it all `IndentationError: expected an indented block after 'for'`"
   ]
  },
  {
   "cell_type": "markdown",
   "metadata": {},
   "source": [
    "- **To Avoid Errors in for loops**\n",
    "\n",
    "1. Dont forget your `:` \n",
    "2. Don't forget to indent after the `:` \n",
    "2. carefully indent only the lines you want to apply for each element in the list "
   ]
  },
  {
   "cell_type": "markdown",
   "metadata": {},
   "source": []
  }
 ],
 "metadata": {
  "kernelspec": {
   "display_name": "computerVision",
   "language": "python",
   "name": "python3"
  },
  "language_info": {
   "codemirror_mode": {
    "name": "ipython",
    "version": 3
   },
   "file_extension": ".py",
   "mimetype": "text/x-python",
   "name": "python",
   "nbconvert_exporter": "python",
   "pygments_lexer": "ipython3",
   "version": "3.12.4"
  }
 },
 "nbformat": 4,
 "nbformat_minor": 2
}
