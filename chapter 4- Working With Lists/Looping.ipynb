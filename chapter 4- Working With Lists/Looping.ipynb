{
 "cells": [
  {
   "cell_type": "markdown",
   "metadata": {},
   "source": [
    "## 1 Looping Through an Entire List\n",
    "\n",
    "why looping? <br> \n",
    "suppose you have a list of 1 million items, and you want to do the same operation on all the items in this list, you can go and index each item and perform the operation ( good luck with that)<br>or simply use a loop. "
   ]
  },
  {
   "cell_type": "code",
   "execution_count": 1,
   "metadata": {},
   "outputs": [
    {
     "name": "stdout",
     "output_type": "stream",
     "text": [
      "ibrahim\n",
      "ali\n",
      "sara\n",
      "noah\n"
     ]
    }
   ],
   "source": [
    "# given a list of names, print out each name in the list \n",
    "\n",
    "students = ['ibrahim', 'ali', 'sara', 'noah'] # define a list \n",
    "\n",
    "\n",
    "for student in students: # initialize a for loop \n",
    "    print(student)      "
   ]
  },
  {
   "cell_type": "markdown",
   "metadata": {},
   "source": [
    "Simple, but what happens actually? \n",
    "\n",
    "we define a `for loop` \n",
    "\n",
    "1. it goes for the first item in the `students` list <br>\n",
    "2. assign this item to the `student` variable \n",
    "3. inside the loop body it uses the `student` variable to do some operations on it \n",
    "4. repeat for every element in the list "
   ]
  },
  {
   "cell_type": "code",
   "execution_count": 2,
   "metadata": {},
   "outputs": [
    {
     "name": "stdout",
     "output_type": "stream",
     "text": [
      "ibrahim\n",
      "ali\n",
      "sara\n",
      "noah\n"
     ]
    }
   ],
   "source": [
    "# let's try to do the same task without a for loop \n",
    "\n",
    "students = ['ibrahim', 'ali', 'sara', 'noah'] #define a list \n",
    "\n",
    "student = students[0]\n",
    "print(student)\n",
    "\n",
    "student = students[1]\n",
    "print(student)\n",
    "\n",
    "student = students[2]\n",
    "print(student)\n",
    "\n",
    "student = students[3]\n",
    "print(student)"
   ]
  },
  {
   "cell_type": "markdown",
   "metadata": {},
   "source": [
    "same output, but with a few flaws \n",
    "1. it's repetitive work, remember in programming `Dont Repeat Your Self` \n",
    "2. what if we add a new name to the student's list names, we would have to go manually and assign it to a student variable and then print it \n",
    "3. using for loop avoids all of that \n"
   ]
  },
  {
   "cell_type": "markdown",
   "metadata": {},
   "source": []
  }
 ],
 "metadata": {
  "kernelspec": {
   "display_name": "computerVision",
   "language": "python",
   "name": "python3"
  },
  "language_info": {
   "codemirror_mode": {
    "name": "ipython",
    "version": 3
   },
   "file_extension": ".py",
   "mimetype": "text/x-python",
   "name": "python",
   "nbconvert_exporter": "python",
   "pygments_lexer": "ipython3",
   "version": "3.12.4"
  }
 },
 "nbformat": 4,
 "nbformat_minor": 2
}
