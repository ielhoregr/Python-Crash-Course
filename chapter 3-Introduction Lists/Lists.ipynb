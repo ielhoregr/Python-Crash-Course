{
 "cells": [
  {
   "cell_type": "markdown",
   "metadata": {},
   "source": [
    "# Lists : \n",
    "1. **List is a collection of items in a particular order**\n",
    "2. in python, square brackets([]) indicate a list, and the individual elements in the list are seperated by a comma"
   ]
  },
  {
   "cell_type": "code",
   "execution_count": 1,
   "metadata": {},
   "outputs": [
    {
     "name": "stdout",
     "output_type": "stream",
     "text": [
      "['Toyota', 'Ford', 'Audi', 'BMW']\n"
     ]
    }
   ],
   "source": [
    "cars = ['Toyota', 'Ford', 'Audi', 'BMW' ] \n",
    "print(cars) "
   ]
  },
  {
   "cell_type": "markdown",
   "metadata": {},
   "source": [
    "## Acessing Elements in a list \n",
    "\n",
    "1. lists are orderd, we can access a list element by it's order or `index` \n",
    "2. with computers, we start counting from 0 not 1 \n",
    "3. to access the first element of a list, write the list name followed by the index inside a square brackets "
   ]
  },
  {
   "cell_type": "code",
   "execution_count": 2,
   "metadata": {},
   "outputs": [
    {
     "name": "stdout",
     "output_type": "stream",
     "text": [
      "Toyota\n"
     ]
    }
   ],
   "source": [
    "# access first element (with index 0)\n",
    "\n",
    "print(cars[0]) "
   ]
  },
  {
   "cell_type": "code",
   "execution_count": 3,
   "metadata": {},
   "outputs": [
    {
     "name": "stdout",
     "output_type": "stream",
     "text": [
      "Ford\n"
     ]
    }
   ],
   "source": [
    "# access second element (with index 1)  \n",
    "print(cars[1]) "
   ]
  },
  {
   "cell_type": "code",
   "execution_count": 4,
   "metadata": {},
   "outputs": [
    {
     "name": "stdout",
     "output_type": "stream",
     "text": [
      "AUDI\n"
     ]
    }
   ],
   "source": [
    "# cars list containing  items of a type string \n",
    "# the indexing return a string, so you can use all the String methods on it.  \n",
    "\n",
    "print(cars[2].upper()) "
   ]
  },
  {
   "cell_type": "code",
   "execution_count": 5,
   "metadata": {},
   "outputs": [
    {
     "name": "stdout",
     "output_type": "stream",
     "text": [
      "BMW\n",
      "BMW\n"
     ]
    }
   ],
   "source": [
    "# We can access the last item in a list by two ways\n",
    "# 1- knowing the length of the list (the number of items in a list) so i can use [length-1] as index\n",
    "print(cars[3]) \n",
    "\n",
    "\n",
    "#2- using a special index in Python which is the [-1], this is helpful when the length of the list i\n",
    "print(cars[-1]) \n"
   ]
  },
  {
   "cell_type": "code",
   "execution_count": 6,
   "metadata": {},
   "outputs": [
    {
     "name": "stdout",
     "output_type": "stream",
     "text": [
      "Audi\n",
      "Ford\n"
     ]
    }
   ],
   "source": [
    "# we can generalize the negative indexing so the [-2] will return the second element from the end \n",
    "\n",
    "print(cars[-2]) # second element form the end \n",
    " \n",
    "print(cars[-3]) # third element form the end "
   ]
  },
  {
   "cell_type": "code",
   "execution_count": 7,
   "metadata": {},
   "outputs": [
    {
     "name": "stdout",
     "output_type": "stream",
     "text": [
      "My first car was BMW\n"
     ]
    }
   ],
   "source": [
    "# we can use individual items in a list, same as we do with variables \n",
    "\n",
    "cars = ['Toyota', 'Ford', 'Audi', 'BMW' ]  # a list of 4 items \n",
    "\n",
    "message = f'My first car was {cars[-1]}'  # using a list item inside formated string \n",
    "\n",
    "print(message)\n"
   ]
  },
  {
   "cell_type": "code",
   "execution_count": 8,
   "metadata": {},
   "outputs": [
    {
     "name": "stdout",
     "output_type": "stream",
     "text": [
      "My first car was TOYOTA\n"
     ]
    }
   ],
   "source": [
    "# assign a value to a varible using item in a list \n",
    "\n",
    "first_car = cars[0] \n",
    "print(f'My first car was {first_car.upper()}') "
   ]
  },
  {
   "cell_type": "markdown",
   "metadata": {},
   "source": [
    "## 1. Modifying, Adding and Removing Elements \n",
    "\n",
    "- **Lists are *dynamic*** : meaning you can add, modify and remvoe items as your programe runs "
   ]
  },
  {
   "cell_type": "markdown",
   "metadata": {},
   "source": [
    "### 1.1 modifying"
   ]
  },
  {
   "cell_type": "code",
   "execution_count": 9,
   "metadata": {},
   "outputs": [
    {
     "name": "stdout",
     "output_type": "stream",
     "text": [
      "before changes: ['ibrahim', 'ali', 'mohamed']\n",
      "after changes ['yasser', 'ali', 'mohamed']\n"
     ]
    }
   ],
   "source": [
    "# 1. modifying \n",
    "\n",
    "# list of names \n",
    "\n",
    "names = ['ibrahim', 'ali', 'mohamed'] \n",
    "print(f'before changes: {names}')\n",
    "\n",
    "# chang the first name to yasser \n",
    "names[0] = 'yasser'  # access the first name with it's index and assign it to a new value\n",
    "\n",
    "print(f'after changes {names}') "
   ]
  },
  {
   "cell_type": "markdown",
   "metadata": {},
   "source": [
    "**As you can see the changes is affecting the orignal list directly (this is very important)** "
   ]
  },
  {
   "cell_type": "markdown",
   "metadata": {},
   "source": [
    "### 1.2 Adding \n",
    "\n",
    "1. using `append(item)` \n",
    "2. using `insert(position, item)`"
   ]
  },
  {
   "cell_type": "code",
   "execution_count": 5,
   "metadata": {},
   "outputs": [
    {
     "name": "stdout",
     "output_type": "stream",
     "text": [
      "Orignal names ['ibrahim', 'ali', 'mohamed']\n",
      "Extended names ['ibrahim', 'ali', 'mohamed', 'yasser']\n"
     ]
    }
   ],
   "source": [
    "# 2. Adding \n",
    "\n",
    "# using append()\n",
    "# list_name.append(item) # add the item to the end of the list \n",
    "\n",
    "names = ['ibrahim', 'ali', 'mohamed'] \n",
    "print(f\"Orignal names {names}\") \n",
    "\n",
    "\n",
    "names.append('yasser')  # append yasser to the end of the names list.  \n",
    "\n",
    "print(f\"Extended names {names}\") "
   ]
  },
  {
   "cell_type": "code",
   "execution_count": 7,
   "metadata": {},
   "outputs": [
    {
     "name": "stdout",
     "output_type": "stream",
     "text": [
      "empty list []\n",
      "['Audi', 'Toyota', 'Ford']\n"
     ]
    }
   ],
   "source": [
    "# Another example for append() \n",
    "\n",
    "# start by empty list \n",
    "\n",
    "cars = []\n",
    "print(f'empty list {cars}') \n",
    "\n",
    "cars.append('Audi') # add first element \n",
    "cars.append('Toyota') # add second element\n",
    "cars.append('Ford')  # add third element \n",
    "\n",
    "print(cars)"
   ]
  },
  {
   "cell_type": "code",
   "execution_count": 9,
   "metadata": {},
   "outputs": [
    {
     "name": "stdout",
     "output_type": "stream",
     "text": [
      "original list ['honda', 'yamaha', 'suzuki']\n",
      "modified list ['ducati', 'honda', 'yamaha', 'suzuki']\n"
     ]
    }
   ],
   "source": [
    "# adding elements to a list at specific position \n",
    "\n",
    "# use insert() method : insert(posistion, item)\n",
    " \n",
    "#                0         1          2\n",
    "motorcycles = ['honda', 'yamaha', 'suzuki'] \n",
    "print(f'original list {motorcycles}')\n",
    "\n",
    "motorcycles.insert(0, 'ducati')  # add 'ducati' at the first position (0 index) \n",
    "\n",
    "# this will shift every other value in the list one position to the right \n",
    "print(f'modified list {motorcycles}') \n",
    "\n"
   ]
  },
  {
   "cell_type": "markdown",
   "metadata": {},
   "source": [
    "### 1.3 removing \n",
    "1. `del` statment \n",
    "2. `pop()` method\n",
    "3.  `remove` method "
   ]
  },
  {
   "cell_type": "code",
   "execution_count": 10,
   "metadata": {},
   "outputs": [
    {
     "name": "stdout",
     "output_type": "stream",
     "text": [
      "before deleting ['honda', 'yamaha', 'suzuki']\n",
      "after deleting first item ['yamaha', 'suzuki']\n"
     ]
    }
   ],
   "source": [
    "# 3. Removing elements from a list \n",
    "\n",
    "\n",
    "# using del statment \n",
    "\n",
    "# del list_name[index]  \n",
    "\n",
    "motorcycles = ['honda', 'yamaha', 'suzuki'] \n",
    "print(f'before deleting {motorcycles}') \n",
    "\n",
    "del motorcycles[0] # remove the first item in the motorcycles list \n",
    "\n",
    "print(f'after deleting first item {motorcycles}') \n",
    "\n",
    "# we can no longer access the value that was removed from the list after the del statement is used "
   ]
  },
  {
   "cell_type": "code",
   "execution_count": 11,
   "metadata": {},
   "outputs": [
    {
     "name": "stdout",
     "output_type": "stream",
     "text": [
      "['honda', 'yamaha']\n",
      "suzuki\n"
     ]
    }
   ],
   "source": [
    "# using pop() method \n",
    "\n",
    "# list_name.pop() # remove last item in a list but let's you work with that item after removing it \n",
    "\n",
    "motorcycles = ['honda', 'yamaha', 'suzuki'] \n",
    "popped_motorcycle = motorcycles.pop()  # take the removed value and assign it to a varible  \n",
    "\n",
    "print(motorcycles)  \n",
    "print(popped_motorcycle) "
   ]
  },
  {
   "cell_type": "markdown",
   "metadata": {},
   "source": [
    "**It's useful when you want to remove a value from a list and don't want to lose that value, for example remove the order from the shipping list and add it to the delivered list**"
   ]
  },
  {
   "cell_type": "code",
   "execution_count": 15,
   "metadata": {},
   "outputs": [
    {
     "name": "stdout",
     "output_type": "stream",
     "text": [
      "['order1', 'order2', 'order3']\n",
      "['order4']\n"
     ]
    }
   ],
   "source": [
    "shipped_orders = ['order1','order2', 'order3', 'order4' ] \n",
    "deliverd_orders = [] \n",
    "\n",
    "\n",
    "deliverd_orders.append(shipped_orders.pop()) # reomve the last shipped order and append it in the deliverd_ordered list \n",
    "\n",
    "print(shipped_orders)\n",
    "print(deliverd_orders) \n",
    " "
   ]
  },
  {
   "cell_type": "code",
   "execution_count": 16,
   "metadata": {},
   "outputs": [
    {
     "name": "stdout",
     "output_type": "stream",
     "text": [
      "current state of shipped orders ['order1', 'order2', 'order3', 'order4']\n",
      "first order deliverd order1\n",
      "current state of shipped orders ['order2', 'order3', 'order4']\n"
     ]
    }
   ],
   "source": [
    "# pop(index) : popping items at specific positions (insted of just the last item) \n",
    "shipped_orders = ['order1','order2', 'order3', 'order4' ] \n",
    "\n",
    "print(f'current state of shipped orders {shipped_orders}')\n",
    "\n",
    "first_order_deliverd = shipped_orders.pop(0) # pop item at index 0\n",
    "\n",
    "print(f'first order deliverd {first_order_deliverd}')\n",
    "\n",
    "print(f'current state of shipped orders {shipped_orders}')\n"
   ]
  },
  {
   "cell_type": "markdown",
   "metadata": {},
   "source": [
    "####  When to use del or pop?\n",
    "\n",
    "- both remove items by it's index. \n",
    "- if you want to remove the item and never use it again, use the del statement \n",
    "- if you want to remove an item and use it again, use the pop() method "
   ]
  },
  {
   "cell_type": "markdown",
   "metadata": {},
   "source": [
    "##### remove an item by value \n",
    "- if you know only the value of the item you want to remove, you can use the `remove(value)` method "
   ]
  },
  {
   "cell_type": "code",
   "execution_count": 17,
   "metadata": {},
   "outputs": [
    {
     "name": "stdout",
     "output_type": "stream",
     "text": [
      "['honda', 'yamaha', 'suzuki', 'ducati']\n",
      "['honda', 'yamaha', 'suzuki']\n"
     ]
    }
   ],
   "source": [
    "motorcycles = ['honda', 'yamaha', 'suzuki', 'ducati'] \n",
    "\n",
    "print(motorcycles) \n",
    "\n",
    "motorcycles.remove('ducati')\n",
    "print(motorcycles)"
   ]
  },
  {
   "cell_type": "markdown",
   "metadata": {},
   "source": [
    "**Note**: the `remove` method remove only the first occurrence of the value you specify, if there is a possibility the value appears more than once in the list, you'll need to use a loop(chapter 7) "
   ]
  },
  {
   "cell_type": "markdown",
   "metadata": {},
   "source": [
    "## 2. Organizing a List "
   ]
  },
  {
   "cell_type": "markdown",
   "metadata": {},
   "source": [
    "### 2.1 Sorting List Permanently with sort() Method"
   ]
  },
  {
   "cell_type": "code",
   "execution_count": 11,
   "metadata": {},
   "outputs": [
    {
     "name": "stdout",
     "output_type": "stream",
     "text": [
      " Original ['bmw', 'audi', 'toyota', 'subaru']\n",
      "sorted ['audi', 'bmw', 'subaru', 'toyota']\n"
     ]
    }
   ],
   "source": [
    "# sort alphabetically \n",
    "\n",
    "#original list\n",
    "cars = ['bmw', 'audi', 'toyota', 'subaru'] \n",
    "print(f' Original {cars}')\n",
    "\n",
    "cars.sort() # affect the orignal list directly \n",
    "print(f'sorted {cars}') # same variable name "
   ]
  },
  {
   "cell_type": "code",
   "execution_count": 12,
   "metadata": {},
   "outputs": [
    {
     "name": "stdout",
     "output_type": "stream",
     "text": [
      "['bmw', 'audi', 'toyota', 'subaru']\n",
      "['toyota', 'subaru', 'bmw', 'audi']\n"
     ]
    }
   ],
   "source": [
    "# sort alphabetically in reverse order \n",
    "\n",
    "cars = ['bmw', 'audi', 'toyota', 'subaru'] \n",
    "print(cars)\n",
    "cars.sort(reverse=True) # adding an extra piece of information to specifiy the revers order \n",
    "\n",
    "# affecting original list directlry (we can never revert the original order)\n",
    "print(cars)"
   ]
  },
  {
   "cell_type": "markdown",
   "metadata": {},
   "source": [
    "### 2.2 Sroting List Temporarily with sorted() function  (not sort())\n",
    "\n"
   ]
  },
  {
   "cell_type": "code",
   "execution_count": 15,
   "metadata": {},
   "outputs": [
    {
     "name": "stdout",
     "output_type": "stream",
     "text": [
      "orignal List:\n",
      "['bmw', 'audi', 'toyota', 'subaru']\n",
      "The sorted List:\n",
      "['audi', 'bmw', 'subaru', 'toyota']\n",
      "Orignial list again\n",
      "['bmw', 'audi', 'toyota', 'subaru']\n"
     ]
    }
   ],
   "source": [
    "cars = ['bmw', 'audi', 'toyota', 'subaru'] \n",
    "\n",
    "print(\"orignal List:\")\n",
    "print(cars)\n",
    "\n",
    "print(\"The sorted List:\")\n",
    "print(sorted(cars))  # return a sorted version without affecting the orignal order of the list \n",
    "\n",
    "print(\"Orignial list again\") \n",
    "print(cars)"
   ]
  },
  {
   "cell_type": "markdown",
   "metadata": {},
   "source": [
    "### 2.3 Reversing the order of the list\n"
   ]
  },
  {
   "cell_type": "code",
   "execution_count": 16,
   "metadata": {},
   "outputs": [
    {
     "name": "stdout",
     "output_type": "stream",
     "text": [
      "original list\n",
      "['subaru', 'toyota', 'audi', 'bmw']\n",
      "reversed list\n",
      "['subaru', 'toyota', 'audi', 'bmw']\n"
     ]
    }
   ],
   "source": [
    "\n",
    "cars = ['bmw', 'audi', 'toyota', 'subaru']  # start with 'bmw' , end with 'subaru' \n",
    "\n",
    "cars.reverse() # reverse the order of the given list (not care about alphabetical order) \n",
    "\n",
    "print('original list')\n",
    "print(cars) \n",
    "\n",
    "print('reversed list')\n",
    "print(cars) # affecting the original list"
   ]
  },
  {
   "cell_type": "markdown",
   "metadata": {},
   "source": [
    "The reverse() method changes the order of a list permanently, but you\n",
    "can revert to the original order anytime by applying reverse() to the same\n",
    "list a second time."
   ]
  },
  {
   "cell_type": "markdown",
   "metadata": {},
   "source": [
    "### 2.4 Finding the Length of a List \n",
    "\n",
    "finding how many items in a list using len() function "
   ]
  },
  {
   "cell_type": "code",
   "execution_count": 17,
   "metadata": {},
   "outputs": [
    {
     "name": "stdout",
     "output_type": "stream",
     "text": [
      "4\n"
     ]
    }
   ],
   "source": [
    "cars = ['bmw', 'audi', 'toyota', 'subaru'] # 4 items \n",
    "\n",
    "print(len(cars)) "
   ]
  },
  {
   "cell_type": "markdown",
   "metadata": {},
   "source": [
    "#### 2.5 Avoiding Index Erros \n",
    "\n",
    "In the last example, the length of the list is 4 but it starts from ( 0 to 3), the last item is that the list has an index of 3\n",
    "but what happens if we by mistake try to access the last item by index 4, forgetting about the fact it starts with 0 "
   ]
  },
  {
   "cell_type": "code",
   "execution_count": 18,
   "metadata": {},
   "outputs": [
    {
     "name": "stdout",
     "output_type": "stream",
     "text": [
      "['bmw', 'audi', 'toyota', 'subaru']\n"
     ]
    }
   ],
   "source": [
    "print(cars)"
   ]
  },
  {
   "cell_type": "code",
   "execution_count": 19,
   "metadata": {},
   "outputs": [
    {
     "ename": "IndexError",
     "evalue": "list index out of range",
     "output_type": "error",
     "traceback": [
      "\u001b[1;31m---------------------------------------------------------------------------\u001b[0m",
      "\u001b[1;31mIndexError\u001b[0m                                Traceback (most recent call last)",
      "Cell \u001b[1;32mIn[19], line 1\u001b[0m\n\u001b[1;32m----> 1\u001b[0m \u001b[43mcars\u001b[49m\u001b[43m[\u001b[49m\u001b[38;5;241;43m4\u001b[39;49m\u001b[43m]\u001b[49m\n",
      "\u001b[1;31mIndexError\u001b[0m: list index out of range"
     ]
    }
   ],
   "source": [
    "cars[4]"
   ]
  },
  {
   "cell_type": "markdown",
   "metadata": {},
   "source": [
    "As expected we got an error, python tries to search for an item in index 4, but there is not any item there, so it raises a \"list index out of range\" error, it's a common error. don't freak out "
   ]
  },
  {
   "cell_type": "markdown",
   "metadata": {},
   "source": [
    "## 3. Chapter Summary \n",
    "\n",
    "1. What is lists? \n",
    "2. define a list, add, and remove elements \n",
    "3. sort lists permanently and temporarily for display purposes \n",
    "4. length of a list and index erros. "
   ]
  },
  {
   "cell_type": "markdown",
   "metadata": {},
   "source": []
  }
 ],
 "metadata": {
  "kernelspec": {
   "display_name": "Python 3",
   "language": "python",
   "name": "python3"
  },
  "language_info": {
   "codemirror_mode": {
    "name": "ipython",
    "version": 3
   },
   "file_extension": ".py",
   "mimetype": "text/x-python",
   "name": "python",
   "nbconvert_exporter": "python",
   "pygments_lexer": "ipython3",
   "version": "3.12.4"
  }
 },
 "nbformat": 4,
 "nbformat_minor": 2
}
