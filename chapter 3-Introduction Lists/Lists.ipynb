{
 "cells": [
  {
   "cell_type": "markdown",
   "metadata": {},
   "source": [
    "# List : \n",
    "1. **List is a collection of items in a particular order**\n",
    "2. in python, square brackets([]) indicate a list, and the individual elements in the list are seperated by a comma"
   ]
  },
  {
   "cell_type": "code",
   "execution_count": 1,
   "metadata": {},
   "outputs": [
    {
     "name": "stdout",
     "output_type": "stream",
     "text": [
      "['Toyota', 'Ford', 'Audi', 'BMW']\n"
     ]
    }
   ],
   "source": [
    "cars = ['Toyota', 'Ford', 'Audi', 'BMW' ] \n",
    "print(cars) "
   ]
  },
  {
   "cell_type": "markdown",
   "metadata": {},
   "source": [
    "## Acessing Elements in a list \n",
    "\n",
    "1. lists are orderd, we can access a list element by it's order or `index` \n",
    "2. with computers, we start counting from 0 not 1 \n",
    "3. to access the first element of a list, write the list name followed by the index inside a square brackets "
   ]
  },
  {
   "cell_type": "code",
   "execution_count": 2,
   "metadata": {},
   "outputs": [
    {
     "name": "stdout",
     "output_type": "stream",
     "text": [
      "Toyota\n"
     ]
    }
   ],
   "source": [
    "# access first element (with index 0)\n",
    "\n",
    "print(cars[0]) "
   ]
  },
  {
   "cell_type": "code",
   "execution_count": 3,
   "metadata": {},
   "outputs": [
    {
     "name": "stdout",
     "output_type": "stream",
     "text": [
      "Ford\n"
     ]
    }
   ],
   "source": [
    "# access second element (with index 1)  \n",
    "print(cars[1]) "
   ]
  },
  {
   "cell_type": "code",
   "execution_count": 6,
   "metadata": {},
   "outputs": [
    {
     "name": "stdout",
     "output_type": "stream",
     "text": [
      "AUDI\n"
     ]
    }
   ],
   "source": [
    "# cars list containing  items of a type string \n",
    "# the indexing return a string, so you can use all the String methods on it.  \n",
    "\n",
    "print(cars[2].upper()) "
   ]
  },
  {
   "cell_type": "code",
   "execution_count": 8,
   "metadata": {},
   "outputs": [
    {
     "name": "stdout",
     "output_type": "stream",
     "text": [
      "BMW\n",
      "BMW\n"
     ]
    }
   ],
   "source": [
    "# We can access the last item in a list by two ways\n",
    "# 1- knowing the length of the list (the number of items in a list) so i can use [length-1] as index\n",
    "print(cars[3]) \n",
    "\n",
    "\n",
    "#2- using a special index in Python which is the [-1], this is helpful when the length of the list i\n",
    "print(cars[-1]) \n"
   ]
  },
  {
   "cell_type": "code",
   "execution_count": 10,
   "metadata": {},
   "outputs": [
    {
     "name": "stdout",
     "output_type": "stream",
     "text": [
      "Audi\n",
      "Ford\n"
     ]
    }
   ],
   "source": [
    "# we can generalize the negative indexing so the [-2] will return the second element from the end \n",
    "\n",
    "print(cars[-2]) \n",
    "\n",
    "print(cars[-3])"
   ]
  },
  {
   "cell_type": "code",
   "execution_count": null,
   "metadata": {},
   "outputs": [],
   "source": []
  }
 ],
 "metadata": {
  "kernelspec": {
   "display_name": "Python 3",
   "language": "python",
   "name": "python3"
  },
  "language_info": {
   "codemirror_mode": {
    "name": "ipython",
    "version": 3
   },
   "file_extension": ".py",
   "mimetype": "text/x-python",
   "name": "python",
   "nbconvert_exporter": "python",
   "pygments_lexer": "ipython3",
   "version": "3.12.4"
  }
 },
 "nbformat": 4,
 "nbformat_minor": 2
}
